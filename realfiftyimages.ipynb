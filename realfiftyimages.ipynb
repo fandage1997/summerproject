{
 "cells": [
  {
   "cell_type": "code",
   "execution_count": 1,
   "metadata": {},
   "outputs": [],
   "source": [
    "import cv2\n",
    "import os\n",
    "from skimage import io\n",
    "import random\n",
    "import numpy as np\n",
    "from numpy.linalg import inv"
   ]
  },
  {
   "cell_type": "code",
   "execution_count": 3,
   "metadata": {},
   "outputs": [],
   "source": [
    "#Run this script one time, and then delete the line \"j=0\". By doing so, the script would automatically label the number of the generated images\n",
    "\n",
    "i=0\n",
    "j=0\n",
    "while i<=23:\n",
    "    i=i+1\n",
    "    j=j+1\n",
    "    testimg=cv2.imread('fiftyimages' + '/' + 'fiftyimage (%d).tif'%(i))\n",
    "    testimg=cv2.resize(testimg,(160,120))\n",
    "    y0=random.randint(3,50)\n",
    "    x0=random.randint(3,90)\n",
    "    cropped=testimg[y0:y0+64,x0:x0+64]\n",
    "    top_x = random.randint(16, 80)\n",
    "    top_y = random.randint(16, 40)\n",
    "    top_left_point = (top_x, top_y)\n",
    "    top_right_point = (top_x+64, top_y)\n",
    "    bottom_left_point = (top_x, top_y+64)\n",
    "    bottom_right_point = (top_x+64, top_y+64)\n",
    "    four_points = [top_left_point, top_right_point, bottom_left_point, bottom_right_point]\n",
    "    perturbed_four_points = []\n",
    "    for point in four_points:\n",
    "        perturbed_four_points.append( (point[0] + random.randint(-16,16), point[1] + random.randint(-16,16)) )\n",
    "    H = cv2.getPerspectiveTransform( np.float32(four_points), np.float32(perturbed_four_points) )\n",
    "    H_inverse = inv(H)\n",
    "    warped_image = cv2.warpPerspective(cropped, H_inverse, (64,64))\n",
    "    #cv2.imwrite(r\"D:\\summer\\rescaledimage\\resized%d.tif\"%(j),cropped)\n",
    "    #cv2.imwrite(r\"D:\\summer\\randomperspective\\warped%d.tif\"%(j),warped_image)\n",
    "    #np.savetxt(r'D:\\summer\\homographyparam\\H%d.txt'%(j),H)\n",
    "    #np.savetxt(r'D:\\summer\\inverse\\H_inverse%d.txt'%(j),H_inverse)\n",
    "    cv2.imwrite(\"rescaledimage\\resized%d.tif\"%(j),cropped)\n",
    "    cv2.imwrite(\"randomperspective\\warped%d.tif\"%(j),warped_image)\n",
    "    np.savetxt('homographyparam\\H%d.txt'%(j),H)\n",
    "    np.savetxt('inverse\\H_inverse%d.txt'%(j),H_inverse)"
   ]
  },
  {
   "cell_type": "code",
   "execution_count": null,
   "metadata": {},
   "outputs": [],
   "source": []
  },
  {
   "cell_type": "code",
   "execution_count": null,
   "metadata": {},
   "outputs": [],
   "source": []
  }
 ],
 "metadata": {
  "kernelspec": {
   "display_name": "Python 3",
   "language": "python",
   "name": "python3"
  },
  "language_info": {
   "codemirror_mode": {
    "name": "ipython",
    "version": 3
   },
   "file_extension": ".py",
   "mimetype": "text/x-python",
   "name": "python",
   "nbconvert_exporter": "python",
   "pygments_lexer": "ipython3",
   "version": "3.7.4"
  }
 },
 "nbformat": 4,
 "nbformat_minor": 2
}
